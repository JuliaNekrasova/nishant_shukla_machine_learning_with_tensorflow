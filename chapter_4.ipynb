{
 "cells": [
  {
   "cell_type": "code",
   "execution_count": 44,
   "metadata": {},
   "outputs": [
    {
     "name": "stdout",
     "output_type": "stream",
     "text": [
      "0 10.0\n",
      "100 2.26328\n",
      "200 1.19227\n",
      "300 1.01966\n",
      "400 0.991835\n",
      "500 0.987351\n",
      "600 0.986628\n",
      "700 0.986511\n",
      "800 0.986493\n",
      "900 0.98649\n",
      "learning parameters array([ 1.30275416, -0.22242002], dtype=float32), acuracy 1.000000\n"
     ]
    },
    {
     "data": {
      "image/png": "[encoded data removed]",
      "text/plain": [
       "<matplotlib.figure.Figure at 0x7f1fb8086780>"
      ]
     },
     "metadata": {
      "needs_background": "light"
     },
     "output_type": "display_data"
    }
   ],
   "source": [
    "import tensorflow as tf\n",
    "import numpy as np\n",
    "import matplotlib.pyplot as plt\n",
    "\n",
    "x_label0 = np.random.normal(5, 1, 10)\n",
    "x_label1 = np.random.normal(2, 1, 10)\n",
    "xs = np.append(x_label0, x_label1)\n",
    "labels = [0.] * len(x_label0) + [1.] * len(x_label1) \n",
    "\n",
    "plt.scatter(xs, labels)\n",
    "\n",
    "learning_rate = 0.001\n",
    "training_epochs = 1000\n",
    "\n",
    "X = tf.placeholder(tf.float32)\n",
    "Y = tf.placeholder(tf.float32)\n",
    "w = tf.Variable([0., 0.], name = \"parametrs\")\n",
    "\n",
    "def model(X, w):\n",
    "    return tf.add(tf.multiply(w[1], X),w[0]) # y = w1 * x + w0\n",
    "\n",
    "y_model = model(X, w)\n",
    "\n",
    "cost = tf.reduce_sum(tf.square(Y - y_model))\n",
    "\n",
    "train_op = tf.train.GradientDescentOptimizer(learning_rate).minimize(cost)\n",
    "\n",
    "init = tf.global_variables_initializer()\n",
    "\n",
    "with tf.Session() as sess:\n",
    "    sess.run(init)\n",
    "    for epoch in range(training_epochs):\n",
    "        _, current_cost = sess.run([train_op, cost], feed_dict = {X:xs, Y:labels})\n",
    "        if epoch % 100 == 0:\n",
    "            print(epoch, current_cost)\n",
    "            \n",
    "    correct_prediction = tf.equal(Y, tf.cast(tf.greater(y_model, 0.5), tf.float32))\n",
    "    accuracy = tf.reduce_mean(tf.cast(correct_prediction, tf.float32))\n",
    "    \n",
    "    w_val, accuracy_val = sess.run([w, accuracy], feed_dict = {X:xs, Y:labels})              \n",
    "    print(\"learning parameters %a, acuracy %f\" % (w_val, accuracy_val))\n",
    "    \n",
    "all_xs = np.linspace(0, 10, 100)    \n",
    "plt.plot(all_xs, all_xs * w_val[1] + w_val[0])\n",
    "plt.show()\n",
    "    \n",
    "    "
   ]
  },
  {
   "cell_type": "code",
   "execution_count": null,
   "metadata": {},
   "outputs": [],
   "source": []
  },
  {
   "cell_type": "code",
   "execution_count": null,
   "metadata": {},
   "outputs": [],
   "source": []
  }
 ],
 "metadata": {
  "kernelspec": {
   "display_name": "Python 3",
   "language": "python",
   "name": "python3"
  },
  "language_info": {
   "codemirror_mode": {
    "name": "ipython",
    "version": 3
   },
   "file_extension": ".py",
   "mimetype": "text/x-python",
   "name": "python",
   "nbconvert_exporter": "python",
   "pygments_lexer": "ipython3",
   "version": "3.6.7"
  }
 },
 "nbformat": 4,
 "nbformat_minor": 2
}
