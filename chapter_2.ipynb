{
 "cells": [
  {
   "cell_type": "code",
   "execution_count": 26,
   "metadata": {},
   "outputs": [
    {
     "name": "stdout",
     "output_type": "stream",
     "text": [
      "<class 'list'>\n",
      "<class 'numpy.ndarray'>\n",
      "<class 'tensorflow.python.framework.ops.Tensor'>\n",
      "<class 'tensorflow.python.framework.ops.Tensor'>\n",
      "<class 'tensorflow.python.framework.ops.Tensor'>\n",
      "<class 'tensorflow.python.framework.ops.Tensor'>\n"
     ]
    }
   ],
   "source": [
    "import tensorflow as tf\n",
    "import numpy as np\n",
    "\n",
    "m1 = [[1.,2.],[3.,4.]]\n",
    "m2 = np.array([[1.,2.],[3.,4.]])\n",
    "m3 = tf.constant([[1.,2.],[3.,4.]])\n",
    "\n",
    "print(type(m1))\n",
    "print(type(m2))\n",
    "print(type(m3))\n",
    "\n",
    "t1 = tf.convert_to_tensor(m1)\n",
    "t2 = tf.convert_to_tensor(m2)\n",
    "t3 = tf.convert_to_tensor(m3)\n",
    "\n",
    "print(type(t1))\n",
    "print(type(t2))\n",
    "print(type(t3))"
   ]
  },
  {
   "cell_type": "code",
   "execution_count": 39,
   "metadata": {},
   "outputs": [
    {
     "name": "stdout",
     "output_type": "stream",
     "text": [
      "Tensor(\"Const_74:0\", shape=(1, 2), dtype=float32)\n",
      "Tensor(\"Const_75:0\", shape=(2, 1), dtype=float32)\n",
      "Tensor(\"Const_76:0\", shape=(2, 3, 2), dtype=int32)\n"
     ]
    }
   ],
   "source": [
    "\n",
    "m1 = tf.constant([[1.,2.]])\n",
    "m2 = tf.constant([[1.],[2.]])\n",
    "m3 = tf.constant([ [[1,2],\n",
    "                    [3,4],\n",
    "                    [5,6]],\n",
    "                   [[7,8],\n",
    "                    [9,10],\n",
    "                    [11,12]] ])\n",
    "\n",
    "print(m1)\n",
    "print(m2)\n",
    "print(m3)"
   ]
  },
  {
   "cell_type": "code",
   "execution_count": 35,
   "metadata": {},
   "outputs": [
    {
     "name": "stdout",
     "output_type": "stream",
     "text": [
      "Tensor(\"Neg_13:0\", shape=(1, 2), dtype=int32)\n",
      "[[-1 -2]]\n"
     ]
    }
   ],
   "source": [
    "x = tf.constant([[1,2]])\n",
    "negMatrix = tf.negative(x)\n",
    "print(negMatrix)\n",
    "\n",
    "with tf.Session(config=tf.ConfigProto(log_device_placement=True)) as sess:\n",
    "    result = sess.run(negMatrix)\n",
    "print(result)"
   ]
  },
  {
   "cell_type": "code",
   "execution_count": 25,
   "metadata": {},
   "outputs": [
    {
     "name": "stdout",
     "output_type": "stream",
     "text": [
      "Tensor(\"Neg_4:0\", shape=(1, 2), dtype=int32)\n",
      "[[-1 -2]]\n"
     ]
    }
   ],
   "source": [
    "sess = tf.InteractiveSession()\n",
    "\n",
    "x = tf.constant([[1,2]])\n",
    "negMatrix = tf.negative(x)\n",
    "print(negMatrix)\n",
    "\n",
    "print(negMatrix.eval())\n",
    "\n",
    "sess.close()"
   ]
  },
  {
   "cell_type": "code",
   "execution_count": 57,
   "metadata": {},
   "outputs": [
    {
     "name": "stdout",
     "output_type": "stream",
     "text": [
      "Spike(1) True\n",
      "Spike(6) False\n",
      "Spike(-9) True\n",
      "Spike(1) True\n",
      "Spike(5) False\n",
      "Spike(0) True\n",
      "Spike(7) False\n"
     ]
    }
   ],
   "source": [
    "sess = tf.InteractiveSession()\n",
    "\n",
    "raw_data = [1., 2., 8., -1., 0., 5.5, 6., 13]\n",
    "spike = tf.Variable(False)\n",
    "spike.initializer.run()\n",
    "\n",
    "for i in range(1, len(raw_data)):\n",
    "    if raw_data[i] - raw_data[i - 1] > 5:\n",
    "        tf.assign(spike, True).eval()\n",
    "    else:    \n",
    "        tf.assign(spike, False).eval()\n",
    "\n",
    "    print(\"Spike(%d) %r\" % (raw_data[i] - raw_data[i - 1], spike.eval()))        \n",
    "\n",
    "sess.close()"
   ]
  },
  {
   "cell_type": "code",
   "execution_count": 86,
   "metadata": {},
   "outputs": [
    {
     "name": "stdout",
     "output_type": "stream",
     "text": [
      "spikes data saved in file spikes.ckpt\n"
     ]
    }
   ],
   "source": [
    "sess = tf.InteractiveSession()\n",
    "raw_data = [1., 2., 8., -1., 0., 5.5, 6., 13]\n",
    "spikes = tf.Variable([False] * len(raw_data), name = 'spikes')\n",
    "#spikes.initializer.run()\n",
    "init = tf.global_variables_initializer()\n",
    "\n",
    "saver = tf.train.Saver()\n",
    "\n",
    "sess.run(init)\n",
    "\n",
    "for i in range(1, len(raw_data)):\n",
    "    if raw_data[i] - raw_data[i - 1] > 5:\n",
    "        spikes_val = spikes.eval()\n",
    "        spikes_val[i] = True\n",
    "        tf.assign(spikes, spikes_val).eval()\n",
    "\n",
    "save_path = saver.save(sess, \"spikes.ckpt\")\n",
    "print(\"spikes data saved in file %s\" % save_path)\n",
    "\n",
    "sess.close()"
   ]
  },
  {
   "cell_type": "code",
   "execution_count": 85,
   "metadata": {},
   "outputs": [
    {
     "name": "stdout",
     "output_type": "stream",
     "text": [
      "INFO:tensorflow:Restoring parameters from spikes.ckpt\n",
      "[False False False False False False False False]\n"
     ]
    }
   ],
   "source": [
    "tf.reset_default_graph()\n",
    "\n",
    "sess = tf.InteractiveSession()\n",
    "spikes = tf.Variable([False] * len(raw_data), name = 'spikes')\n",
    "\n",
    "saver = tf.train.Saver()\n",
    "\n",
    "saver.restore(sess, \"spikes.ckpt\")\n",
    "\n",
    "print(spikes.eval())\n",
    "\n",
    "sess.close()"
   ]
  },
  {
   "cell_type": "code",
   "execution_count": 96,
   "metadata": {},
   "outputs": [
    {
     "name": "stdout",
     "output_type": "stream",
     "text": [
      "10.2014650488 0.510073\n",
      "8.11361773747 0.89025\n",
      "10.8675391342 1.38911\n",
      "9.99003082891 1.81916\n",
      "10.1647291117 2.23644\n",
      "8.80950308463 2.56509\n",
      "9.90191107955 2.93193\n",
      "9.29839144086 3.25026\n",
      "10.80461728 3.62797\n",
      "10.3847644968 3.96581\n",
      "10.0625397872 4.27065\n",
      "9.7825594574 4.54625\n",
      "11.0562976164 4.87175\n",
      "10.542279163 5.15527\n",
      "9.28425484879 5.36172\n",
      "9.83976112421 5.58563\n",
      "10.6391742535 5.8383\n",
      "11.5325831039 6.12302\n",
      "9.44670372755 6.2892\n",
      "11.2490847944 6.53719\n",
      "10.3393161468 6.7273\n",
      "9.70127257144 6.876\n",
      "10.917056378 7.07805\n",
      "11.5590691817 7.3021\n",
      "10.2938216011 7.45169\n",
      "7.60298924737 7.45925\n",
      "11.0722303444 7.6399\n",
      "10.756025536 7.79571\n",
      "10.8633643722 7.94909\n",
      "9.82751519197 8.04301\n",
      "10.0029319383 8.14101\n",
      "10.2464961673 8.24628\n",
      "11.3991159999 8.40392\n",
      "12.1906412297 8.59326\n",
      "10.5130236602 8.68925\n",
      "8.84522825996 8.69705\n",
      "9.79059216636 8.75172\n",
      "9.98000858902 8.81314\n",
      "7.45754374686 8.74536\n",
      "11.9115654238 8.90367\n",
      "9.07187511514 8.91208\n",
      "10.2814351056 8.98055\n",
      "10.9920008678 9.08112\n",
      "10.7023458912 9.16218\n",
      "10.8044240739 9.24429\n",
      "9.48030471243 9.25609\n",
      "9.82845796034 9.28471\n",
      "9.81455819406 9.3112\n",
      "10.5993747501 9.37561\n",
      "9.90541329944 9.4021\n",
      "10.2275785484 9.44338\n",
      "9.30469180602 9.43644\n",
      "9.08291616097 9.41877\n",
      "9.27706136438 9.41168\n",
      "8.19517242643 9.35085\n",
      "10.428091749 9.40472\n",
      "10.8458474662 9.47677\n",
      "11.2882683019 9.56735\n",
      "9.14189426044 9.54607\n",
      "8.64649492613 9.5011\n",
      "9.80008072468 9.51604\n",
      "9.76212362683 9.52835\n",
      "11.2339646811 9.61363\n",
      "9.30987042072 9.59844\n",
      "9.15750130829 9.57639\n",
      "9.96326552172 9.59574\n",
      "9.98566809009 9.61523\n",
      "9.63739723344 9.61634\n",
      "10.2647842061 9.64876\n",
      "11.0978885728 9.72122\n",
      "8.86888049106 9.6786\n",
      "9.95358863873 9.69235\n",
      "8.31858511739 9.62366\n",
      "10.3014598473 9.65755\n",
      "9.46755583954 9.64805\n",
      "9.33257140749 9.63228\n",
      "9.41498685884 9.62141\n",
      "7.93349131718 9.53702\n",
      "9.75094153629 9.54771\n",
      "9.95017298106 9.56784\n",
      "10.4461438374 9.61175\n",
      "9.16303430669 9.58932\n",
      "9.79418125292 9.59956\n",
      "9.85792141981 9.61248\n",
      "8.92172292889 9.57794\n",
      "8.74508791976 9.5363\n",
      "8.42103862976 9.48053\n",
      "10.6624431597 9.53963\n",
      "11.203387741 9.62282\n",
      "8.53473238916 9.56841\n",
      "11.3813256766 9.65906\n",
      "11.065938141 9.7294\n",
      "8.32138900345 9.659\n",
      "9.59787629297 9.65594\n",
      "8.78188332938 9.61224\n",
      "11.0913805223 9.6862\n",
      "9.78020468177 9.6909\n",
      "9.27184483712 9.66995\n",
      "11.2192338511 9.74741\n",
      "9.40789802759 9.73043\n"
     ]
    }
   ],
   "source": [
    "tf.reset_default_graph()\n",
    "\n",
    "raw_data = np.random.normal(10, 1, 100)\n",
    "\n",
    "alpha = tf.constant(0.05)\n",
    "curr_value = tf.placeholder(tf.float32)\n",
    "prev_avg = tf.Variable(0.)\n",
    "update_avg = alpha * curr_value + (1. - alpha) * prev_avg\n",
    "\n",
    "avg_hist = tf.summary.scalar(\"running_average\", update_avg)\n",
    "value_hist = tf.summary.scalar(\"incoming_value\", curr_value)\n",
    "merge = tf.summary.merge_all()\n",
    "\n",
    "init = tf.global_variables_initializer()\n",
    "\n",
    "with tf.Session() as sess:\n",
    "    writer = tf.summary.FileWriter(\"./logs\", sess.graph)\n",
    "    sess.run(init)\n",
    "    #sess.add_graph(sess.graph) #визуализируем граф\n",
    "    for i in range(len(raw_data)):\n",
    "        summary_str,curr_avg = sess.run([merge, update_avg], feed_dict = {curr_value: raw_data[i]})\n",
    "        sess.run(tf.assign(prev_avg, curr_avg))\n",
    "        print(raw_data[i], curr_avg)\n",
    "        writer.add_summary(summary_str, i)"
   ]
  },
  {
   "cell_type": "code",
   "execution_count": null,
   "metadata": {},
   "outputs": [],
   "source": []
  }
 ],
 "metadata": {
  "kernelspec": {
   "display_name": "Python 3",
   "language": "python",
   "name": "python3"
  },
  "language_info": {
   "codemirror_mode": {
    "name": "ipython",
    "version": 3
   },
   "file_extension": ".py",
   "mimetype": "text/x-python",
   "name": "python",
   "nbconvert_exporter": "python",
   "pygments_lexer": "ipython3",
   "version": "3.6.7"
  }
 },
 "nbformat": 4,
 "nbformat_minor": 2
}
