{
 "cells": [
  {
   "cell_type": "code",
   "execution_count": 42,
   "metadata": {},
   "outputs": [
    {
     "name": "stdout",
     "output_type": "stream",
     "text": [
      "b'./chapter_2.ipynb'\n",
      "b'./chapter_3.ipynb'\n",
      "b'./chapter_4.ipynb'\n",
      "b'./chapter_5.ipynb'\n",
      "num_files 4\n"
     ]
    }
   ],
   "source": [
    "import tensorflow as tf\n",
    "\n",
    "#Save the list of files matching pattern, so it is only computed once\n",
    "filenames = tf.train.match_filenames_once(\"./*.ipynb\") \n",
    "count_num_files = tf.size(filenames)\n",
    "dataset = tf.data.Dataset.from_tensor_slices(filenames)\n",
    "reader = dataset.map(lambda filename: (filename, tf.read_file(filename)))\n",
    "\n",
    "init = (tf.global_variables_initializer(), tf.local_variables_initializer())\n",
    "\n",
    "iterator = reader.make_initializable_iterator()\n",
    "next_element = iterator.get_next()\n",
    "\n",
    "with tf.Session() as sess:\n",
    "    sess.run(init)\n",
    "    num_files = sess.run(count_num_files)\n",
    "    sess.run(iterator.initializer)\n",
    "    \n",
    "    try:\n",
    "        while True:\n",
    "            filename, _ = sess.run(next_element)\n",
    "            print(filename)\n",
    "    except tf.errors.OutOfRangeError:\n",
    "        pass       \n",
    "\n",
    "print(\"num_files %d\" % (num_files))"
   ]
  },
  {
   "cell_type": "code",
   "execution_count": 103,
   "metadata": {},
   "outputs": [
    {
     "data": {
      "image/png": "[encoded data removed]",
      "text/plain": [
       "<matplotlib.figure.Figure at 0x7fe0d5b102e8>"
      ]
     },
     "metadata": {
      "needs_background": "light"
     },
     "output_type": "display_data"
    }
   ],
   "source": [
    "import numpy as np\n",
    "import tensorflow as tf\n",
    "import matplotlib.pyplot as plt\n",
    "\n",
    "num_pixels = 100\n",
    "num_klusters = 5\n",
    "els_r = np.random.randint(0, 256, num_pixels)\n",
    "els_g = np.random.randint(0, 256, num_pixels)\n",
    "els_b = np.random.randint(0, 256, num_pixels)\n",
    "pixels = np.array((\n",
    "    np.random.randint(0, 256, num_pixels, dtype=np.ubyte), \n",
    "    np.random.randint(0, 256, num_pixels, dtype=np.ubyte), \n",
    "    np.random.randint(0, 256, num_pixels, dtype=np.ubyte))\n",
    ").T\n",
    "\n",
    "#pixels = []\n",
    "#for i in range(num_pixels):\n",
    "#    pixels.append((els_r[i], els_g[i], els_b[i]))\n",
    "\n",
    "#print(pixels.reshape(10,10,3))    \n",
    "#print(pixels.shape)\n",
    "\n",
    "fig=plt.figure()\n",
    "fig.add_subplot(1, 2, 1)\n",
    "plt.imshow(pixels.reshape(10,10,3))\n",
    "fig.add_subplot(1, 2, 2)\n",
    "plt.imshow(pixels.reshape(10,10,3)[0:1, ])\n",
    "\n",
    "\n",
    "plt.show()\n",
    "#print(pixels)"
   ]
  },
  {
   "cell_type": "code",
   "execution_count": null,
   "metadata": {},
   "outputs": [],
   "source": []
  },
  {
   "cell_type": "code",
   "execution_count": null,
   "metadata": {},
   "outputs": [],
   "source": []
  }
 ],
 "metadata": {
  "kernelspec": {
   "display_name": "Python 3",
   "language": "python",
   "name": "python3"
  },
  "language_info": {
   "codemirror_mode": {
    "name": "ipython",
    "version": 3
   },
   "file_extension": ".py",
   "mimetype": "text/x-python",
   "name": "python",
   "nbconvert_exporter": "python",
   "pygments_lexer": "ipython3",
   "version": "3.6.7"
  }
 },
 "nbformat": 4,
 "nbformat_minor": 2
}
