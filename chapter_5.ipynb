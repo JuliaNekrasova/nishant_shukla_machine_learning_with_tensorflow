{
 "cells": [
  {
   "cell_type": "code",
   "execution_count": 42,
   "metadata": {},
   "outputs": [
    {
     "name": "stdout",
     "output_type": "stream",
     "text": [
      "b'./chapter_2.ipynb'\n",
      "b'./chapter_3.ipynb'\n",
      "b'./chapter_4.ipynb'\n",
      "b'./chapter_5.ipynb'\n",
      "num_files 4\n"
     ]
    }
   ],
   "source": [
    "import tensorflow as tf\n",
    "\n",
    "#Save the list of files matching pattern, so it is only computed once\n",
    "filenames = tf.train.match_filenames_once(\"./*.ipynb\") \n",
    "count_num_files = tf.size(filenames)\n",
    "dataset = tf.data.Dataset.from_tensor_slices(filenames)\n",
    "reader = dataset.map(lambda filename: (filename, tf.read_file(filename)))\n",
    "\n",
    "init = (tf.global_variables_initializer(), tf.local_variables_initializer())\n",
    "\n",
    "iterator = reader.make_initializable_iterator()\n",
    "next_element = iterator.get_next()\n",
    "\n",
    "with tf.Session() as sess:\n",
    "    sess.run(init)\n",
    "    num_files = sess.run(count_num_files)\n",
    "    sess.run(iterator.initializer)\n",
    "    \n",
    "    try:\n",
    "        while True:\n",
    "            filename, _ = sess.run(next_element)\n",
    "            print(filename)\n",
    "    except tf.errors.OutOfRangeError:\n",
    "        pass       \n",
    "\n",
    "print(\"num_files %d\" % (num_files))"
   ]
  },
  {
   "cell_type": "code",
   "execution_count": null,
   "metadata": {},
   "outputs": [],
   "source": []
  },
  {
   "cell_type": "code",
   "execution_count": null,
   "metadata": {},
   "outputs": [],
   "source": []
  }
 ],
 "metadata": {
  "kernelspec": {
   "display_name": "Python 3",
   "language": "python",
   "name": "python3"
  },
  "language_info": {
   "codemirror_mode": {
    "name": "ipython",
    "version": 3
   },
   "file_extension": ".py",
   "mimetype": "text/x-python",
   "name": "python",
   "nbconvert_exporter": "python",
   "pygments_lexer": "ipython3",
   "version": "3.6.7"
  }
 },
 "nbformat": 4,
 "nbformat_minor": 2
}
